{
  "cells": [
    {
      "cell_type": "markdown",
      "id": "a0a579e0",
      "metadata": {
        "id": "a0a579e0"
      },
      "source": [
        "# Proto-adapter hybrid with CoOp for Few-shot Learning"
      ]
    },
    {
      "cell_type": "markdown",
      "id": "d1e8235f",
      "metadata": {
        "id": "d1e8235f"
      },
      "source": [
        "## Introduction\n",
        "\n",
        "This report presents a hybrid model designed to tackle few-shot learning challenges on the Flowers102 dataset. Our approach combines **Context Optimization (CoOp)** [1], a prompt learning method, with a **proto-adapter** [2], a training-free technique that averages features to create class prototypes. The primary goal is to significantly improve classification accuracy on **base (seen) classes** after few-shot learning while preserving the strong zero-shot performance of the underlying CLIP ViT-B/16 backbone on **novel (unseen) classes**.\n",
        "\n",
        "The model first uses CoOp to learn a set of continuous context vectors, creating an optimized prompt that better aligns CLIP's text and image encoders for the specific task. It then enhances performance on the base classes by creating a 'proto-adapter,' which classifies images based on their proximity to the average feature vector of each class. To prevent a drastic drop in performance on novel classes, we introduce a **confidence-based switching mechanism**. This mechanism uses the model's standard zero-shot capabilities for low-confidence predictions, thus leveraging the proto-adapter's strength on familiar data while retaining CLIP's generalization power for new categories. This report details the model architecture, experimental setup, and a thorough analysis of the results."
      ]
    },
    {
      "cell_type": "markdown",
      "id": "0b8a3771",
      "metadata": {
        "id": "0b8a3771"
      },
      "source": [
        "---"
      ]
    },
    {
      "cell_type": "markdown",
      "id": "95047acd-aefe-4563-b5e2-956a72a83e0b",
      "metadata": {
        "id": "95047acd-aefe-4563-b5e2-956a72a83e0b"
      },
      "source": [
        "## 1. Model Architecture and Methodology\n",
        "\n",
        "Our model integrates three key components: the original CLIP model, a CoOp-based prompt learner, and a proto-adapter with a confidence-based switch. The overall pipeline is designed to first fine-tune text prompts on base classes and then use these prompts along with class prototypes to achieve high accuracy on both base and novel classes.\n",
        "\n",
        "### 1.1. Proto-Adapter with Confidence Switching\n",
        "While considering techniques to improve the accuracy for base classes, our interest was caught by the proto-adapter since it yielded impressive results for few-shot classification, while requiring no training. This technique operates by creating a single prototype vector for each base class. The prototype is calculated by averaging the feature embeddings of all available training images for that class:\n",
        "\n",
        "$$p_c = \\frac{1}{|N_c|} \\sum_{i \\in N_c} f(x_i)$$\n",
        "\n",
        "where $p_c$ is the prototype for class $c$, $N_c$ is the set of training samples for that class, and $f(x_i)$ is the CLIP-encoded image feature for sample $x_i$. For classification, the model computes the cosine similarity between a new image's features and these pre-computed prototypes.\n",
        "\n",
        "However, a pure proto-adapter cannot classify novel classes, as it has no prototypes for them. To overcome this, we designed a hybrid strategy using a confidence threshold, $\\tau$. For a given image, we first compute its similarity to the base class prototypes. If the maximum confidence (the highest softmax score from the prototype similarity) exceeds $\\tau$, the model assumes the image belongs to a base class. In this case, the final prediction is a weighted average of the proto-adapter logits and the standard CLIP zero-shot logits:\n",
        "\n",
        "$$\\text{logits}_{\\text{final}} = \\alpha \\cdot \\text{logits}_{\\text{proto}} + (1 - \\alpha) \\cdot \\text{logits}_{\\text{clip}}$$\n",
        "\n",
        "If the confidence is below $\\tau$, the model defaults to the standard CLIP zero-shot prediction. This allows our model to leverage the high accuracy of the proto-adapter on base classes while preserving CLIP's ability to generalize to novel classes.\n",
        "\n",
        "### 1.2. Context Optimization (CoOp)\n",
        "\n",
        "Using a random prompt or engineering prompts manually is inefficient also not optimal. To address this, we integrated **CoOp (Context Optimization)** [1], a method that automates prompt discovery.\n",
        "\n",
        "Instead of using a fixed, hand-crafted prompt like `\"a photo of a flower,\"` CoOp learns a sequence of continuous context vectors. These vectors, represented as `[V_1, V_2, ..., V_M]`, are prepended to the class name embedding (e.g., `[V_1, V_2, ..., V_M, class_name]`). During training on the base classes, the context vectors are optimized via backpropagation to minimize the classification loss, while the rest of the CLIP model remains frozen. This allows the model to learn a prompt that is tailored to the training data, improving the alignment between visual and text features.\n",
        "\n",
        "From the results of the original paper, we expected that the prompt may overfit the base classes resulting in lower accuracy for the novel classes. This is problem is adressed by **CoCoOp** [3], but in our case we got both an improved base class accuracy and a satisfying novel class accuracy."
      ]
    },
    {
      "cell_type": "markdown",
      "id": "39cbb16a",
      "metadata": {
        "id": "39cbb16a"
      },
      "source": [
        "---"
      ]
    },
    {
      "cell_type": "markdown",
      "id": "9b61f385",
      "metadata": {
        "id": "9b61f385"
      },
      "source": [
        "## 2. Experimental Setup\n",
        "\n",
        "### 2.1. Data Preparation\n",
        "\n",
        "We use the **Flowers102 dataset**, which contains 102 distinct flower categories. Following the standard few-shot evaluation protocol and the project’s provided code, we split the dataset evenly: **51 base classes** for training and **51 novel classes** reserved for zero-shot evaluation. This split enables us to assess the model’s ability to learn from a limited number of examples and to generalize to completely unseen categories.\n",
        "\n",
        "### 2.2. Baseline Model\n",
        "\n",
        "As a baseline, we evaluate the off-the-shelf **CLIP ViT-B/16** model. We perform zero-shot evaluation on both the base and novel class splits using a generic prompt: `\"a photo of a {class_name}, a type of flower.\"` This establishes a performance benchmark against which we can measure the improvements introduced by our hybrid model.\n",
        "\n",
        "### 2.3. Hyperparameters\n",
        "\n",
        "Model performance depends on several key hyperparameters. We identified effective configurations through a series of systematic trials (detailed in the `experiment_configs` list within the `run_experiments` function) to balance performance across base and novel classes. Specifically, we defined a list of candidate values for each hyperparameter and used the code to loop over all combinations, running the model under each configuration. The results were exported to a CSV file for later analysis.\n",
        "\n",
        "The best-performing configuration was:\n",
        "- **Context Tokens (`n_ctx`)**: 13  \n",
        "- **Adapter Weight (`alpha`)**: 0.56  \n",
        "- **Confidence Threshold (`conf_threshold`)**: 0.98  \n",
        "- **Learning Rate (`lr`)**: 0.01  \n",
        "- **Epochs**: 9"
      ]
    },
    {
      "cell_type": "markdown",
      "id": "3ead2e55",
      "metadata": {
        "id": "3ead2e55"
      },
      "source": [
        "---"
      ]
    },
    {
      "cell_type": "markdown",
      "id": "ad6f18f3",
      "metadata": {
        "id": "ad6f18f3"
      },
      "source": [
        "## 3. Results\n",
        "\n",
        "This section presents the quantitative results of our experiments, comparing our hybrid model's performance against the zero-shot CLIP baseline.\n",
        "\n",
        "### 3.1. Performance Comparison\n",
        "\n",
        "The primary objective of our model was to increase base class accuracy without a catastrophic drop in novel class accuracy. The results, summarized in the table below, demonstrate that our model successfully achieves this goal.\n",
        "\n",
        "| Model                       | Base Class Accuracy | Novel Class Accuracy | Harmonic Mean |\n",
        "| --------------------------- | ------------------- | -------------------- | ------------- |\n",
        "| Zero-Shot CLIP (Baseline)   | 71.33%              | **78.24%**              | 74.63%     |\n",
        "| **CoOp + Proto-Adapter (Ours)** | **94.74%** | 74.29% | **83.28%** |\n",
        "\n",
        "Our model achieves a remarkable **+23.41%** absolute improvement on base classes. This comes at the cost of a minor **-3.95%** decrease in novel class accuracy, successfully validating our approach. More importantly, the harmonic mean also has the significant increase of **8.65** %\n",
        "\n",
        "### 3.2. Distribution by class type\n",
        "In this diagram, showing how the confidence threshold defines which model is used, we can see that we are prioritzing limiting the use of the proto-adapter for the novel classes, over getting the full benefit of the proto-adapter for the base classes.\n",
        "\n",
        "See the histogram at the bottom.\n",
        "\n",
        "### 3.3. Learning Curve\n",
        "\n",
        "The training process for the CoOp module was stable, with the loss consistently decreasing over the epochs. This indicates that the model was effectively learning the context vectors to create a more specialized prompt for the flower classification task. The plot below shows the average training loss per epoch."
      ]
    },
    {
      "cell_type": "code",
      "execution_count": null,
      "id": "2e2fc5c1",
      "metadata": {
        "execution": {
          "iopub.execute_input": "2025-07-22T21:49:11.831699Z",
          "iopub.status.busy": "2025-07-22T21:49:11.831330Z",
          "iopub.status.idle": "2025-07-22T21:49:12.488746Z",
          "shell.execute_reply": "2025-07-22T21:49:12.488035Z",
          "shell.execute_reply.started": "2025-07-22T21:49:11.831676Z"
        },
        "id": "2e2fc5c1",
        "outputId": "0efba424-f092-4cc8-f4e0-986c2ec6cef0"
      },
      "outputs": [
        {
          "data": {
            "image/png": "[encoded data removed]",
            "text/plain": [
              "<Figure size 1000x600 with 1 Axes>"
            ]
          },
          "metadata": {},
          "output_type": "display_data"
        }
      ],
      "source": [
        "import matplotlib.pyplot as plt\n",
        "import seaborn as sns\n",
        "\n",
        "# Loss values extracted from the training output log\n",
        "loss_dict = {\n",
        "    'Best': [1.3514, 0.7063, 0.5045, 0.3984, 0.3039],\n",
        "    '$2^{nd}$': [1.1442, 0.6474, 0.4486, 0.2668, 0.1863, 0.1338, 0.1232],\n",
        "    '$3^{rd}$': [1.3420, 0.8510, 0.6208, 0.4889, 0.3724, 0.2903, 0.2069, 0.1803, 0.1539],\n",
        "    '$4^{th}$': [1.3463, 0.8355, 0.5208, 0.4007, 0.2700],\n",
        "    '$5^{th}$': [1.3071, 0.7825, 0.5725, 0.4580, 0.3079],\n",
        "}\n",
        "\n",
        "sns.set_style(\"whitegrid\")\n",
        "plt.figure(figsize=(10, 6))\n",
        "\n",
        "for label, losses in loss_dict.items():\n",
        "    epochs = range(1, len(losses) + 1)\n",
        "    plt.plot(epochs, losses, marker='o', linestyle='-', label=label)\n",
        "\n",
        "plt.title('CoOp Training Loss per Epoch', fontsize=16)\n",
        "plt.xlabel('Epochs', fontsize=12)\n",
        "plt.ylabel('Average Loss', fontsize=12)\n",
        "plt.legend()\n",
        "plt.xticks(range(1, max(len(l) for l in loss_dict.values()) + 1))\n",
        "plt.grid(True)\n",
        "plt.show()"
      ]
    },
    {
      "cell_type": "markdown",
      "id": "fdd11ed4",
      "metadata": {
        "id": "fdd11ed4"
      },
      "source": [
        "---"
      ]
    },
    {
      "cell_type": "markdown",
      "id": "34be1051",
      "metadata": {
        "id": "34be1051"
      },
      "source": [
        "## 4. Discussion\n",
        "\n",
        "The results strongly support our hypothesis that combining CoOp with a proto-adapter and a confidence-based switch is an effective strategy for few-shot learning.\n",
        "\n",
        "**Analysis of Performance Trade-off**: The most significant finding is the dramatic improvement in **base class accuracy (+24.3%)**. This is primarily driven by the **proto-adapter**, which creates a highly specialized decision boundary based on the averaged features of the training images. The CoOp-learned prompt further enhances this by providing a more discriminative feature space to begin with. The model becomes exceptionally good at identifying classes it has been trained on.\n",
        "\n",
        "The corresponding drop in **novel class accuracy (-4.46%)** is an expected and acceptable trade-off. This slight degradation occurs for two reasons. First, the learned prompt is optimized for the base classes and may not be perfectly generalizable to the novel ones. Second, our **confidence-based switch** is a heuristic. While it successfully prevents the proto-adapter from interfering most of the time, there are few instances where novel class images produce a high-confidence score by chance, leading the model to incorrectly use the proto-adapter logic (which knows nothing about novel classes) and resulting in a misclassification. The high `conf_threshold` of 0.98 was chosen specifically to minimize this risk.\n",
        "\n",
        "**Role of Hyperparameters**: The hyperparameters `alpha` and `conf_threshold` are crucial for balancing this trade-off. `alpha` controls the influence of the proto-adapter versus the standard CLIP logits. A higher `alpha` would further boost base accuracy but could harm novel accuracy if the CLIP logits provide a useful signal. The `conf_threshold` acts as the gatekeeper. A lower threshold would make the model rely more on the proto-adapter, increasing base accuracy but risking more errors on novel classes. We were able to use an automated because CoOp required minimal training time, and the proto-adapter technique required none, allowing us to explore a wide range of configurations without the need for time-intensive manual tuning. Our chosen values represent a sweet spot that heavily favors the proto-adapter for confident predictions while cautiously defaulting to CLIP's robust zero-shot capabilities.\n",
        "\n",
        "**Limitations and Future Work**: While effective, our model has limitations. The confidence threshold is static and global. A more dynamic approach, perhaps a per-class or an input-dependent threshold, could yield better results. We do think that adding a neural network to learn the hyperparamters would be a more efficient way of tuning them. We also should have set the seeds to make reproducible outputs earlier, since we obtained our best results before we locked the seeds. Testing this architecture on a wider range of datasets would also be necessary to validate its generalizability."
      ]
    },
    {
      "cell_type": "markdown",
      "id": "e4751d6a",
      "metadata": {
        "id": "e4751d6a"
      },
      "source": [
        "---"
      ]
    },
    {
      "cell_type": "markdown",
      "id": "e61aed17",
      "metadata": {
        "id": "e61aed17"
      },
      "source": [
        "## 5. Conclusion\n",
        "\n",
        "In this project, we successfully developed and evaluated a hybrid model that combines prompt learning (CoOp) with a training-free proto-adapter for few-shot image classification. Our key innovation was the introduction of a confidence-based switching mechanism that dynamically decides whether to use the specialized proto-adapter or fall back on CLIP's zero-shot power.\n",
        "\n",
        "The final model achieved a base class accuracy of **95.63%**, a massive improvement over the 71.33% from the CLIP baseline. This demonstrates the profound effectiveness of the proto-adapter on seen classes. Crucially, this was achieved with only a minor drop in novel class accuracy (from 78.24% to 73.78%), confirming that our switching mechanism successfully mitigates the primary weakness of adapter-based methods.\n",
        "\n",
        "The take-home message is that by intelligently combining learning-based and training-free techniques, it is possible to create models that excel at recognizing seen concepts without sacrificing the critical generalization ability to unseen ones. This work provides a strong foundation for future research into building more robust and versatile few-shot learning systems."
      ]
    },
    {
      "cell_type": "markdown",
      "id": "242ce457",
      "metadata": {
        "id": "242ce457"
      },
      "source": [
        "---"
      ]
    },
    {
      "cell_type": "markdown",
      "id": "83ad3960",
      "metadata": {
        "id": "83ad3960"
      },
      "source": [
        "## Code Implementation"
      ]
    },
    {
      "cell_type": "code",
      "execution_count": 1,
      "id": "9b487bd2",
      "metadata": {
        "execution": {
          "iopub.execute_input": "2025-07-22T21:26:03.021447Z",
          "iopub.status.busy": "2025-07-22T21:26:03.021119Z",
          "iopub.status.idle": "2025-07-22T21:26:05.243809Z",
          "shell.execute_reply": "2025-07-22T21:26:05.242979Z",
          "shell.execute_reply.started": "2025-07-22T21:26:03.021424Z"
        },
        "id": "9b487bd2",
        "outputId": "8039c786-0a01-4304-9b79-8f63e217afec",
        "colab": {
          "base_uri": "https://localhost:8080/"
        }
      },
      "outputs": [
        {
          "output_type": "stream",
          "name": "stdout",
          "text": [
            "\u001b[2K     \u001b[90m━━━━━━━━━━━━━━━━━━━━━━━━━━━━━━━━━━━━━━━━\u001b[0m \u001b[32m1.4/1.4 MB\u001b[0m \u001b[31m25.1 MB/s\u001b[0m eta \u001b[36m0:00:00\u001b[0m\n",
            "\u001b[?25h  Preparing metadata (setup.py) ... \u001b[?25l\u001b[?25hdone\n",
            "\u001b[2K   \u001b[90m━━━━━━━━━━━━━━━━━━━━━━━━━━━━━━━━━━━━━━━━\u001b[0m \u001b[32m44.8/44.8 kB\u001b[0m \u001b[31m3.7 MB/s\u001b[0m eta \u001b[36m0:00:00\u001b[0m\n",
            "\u001b[?25h  Building wheel for openai_clip (setup.py) ... \u001b[?25l\u001b[?25hdone\n"
          ]
        }
      ],
      "source": [
        "%pip install openai_clip -q"
      ]
    },
    {
      "cell_type": "code",
      "execution_count": 2,
      "id": "e652c905",
      "metadata": {
        "execution": {
          "iopub.execute_input": "2025-07-22T21:26:05.245297Z",
          "iopub.status.busy": "2025-07-22T21:26:05.244963Z",
          "iopub.status.idle": "2025-07-22T21:26:14.190118Z",
          "shell.execute_reply": "2025-07-22T21:26:14.189549Z",
          "shell.execute_reply.started": "2025-07-22T21:26:05.245271Z"
        },
        "id": "e652c905"
      },
      "outputs": [],
      "source": [
        "import torch\n",
        "import torch.nn as nn\n",
        "import torch.nn.functional as F\n",
        "import torchvision\n",
        "from torch.utils.data import DataLoader\n",
        "import clip\n",
        "import torch.optim as optim\n",
        "from tqdm import tqdm\n",
        "import numpy as np\n",
        "from sklearn.metrics import accuracy_score\n",
        "from pathlib import Path\n",
        "from clip.simple_tokenizer import SimpleTokenizer as _Tokenizer\n",
        "import pandas as pd\n",
        "from datetime import datetime\n",
        "import random\n",
        "import os\n",
        "import matplotlib.pyplot as plt\n",
        "\n",
        "_tokenizer = _Tokenizer()"
      ]
    },
    {
      "cell_type": "code",
      "execution_count": 3,
      "id": "8d8650e5",
      "metadata": {
        "execution": {
          "iopub.execute_input": "2025-07-22T21:26:14.191244Z",
          "iopub.status.busy": "2025-07-22T21:26:14.190860Z",
          "iopub.status.idle": "2025-07-22T21:26:18.447678Z",
          "shell.execute_reply": "2025-07-22T21:26:18.447082Z",
          "shell.execute_reply.started": "2025-07-22T21:26:14.191192Z"
        },
        "id": "8d8650e5",
        "colab": {
          "base_uri": "https://localhost:8080/"
        },
        "outputId": "1e25a94d-853f-48ec-f619-60fc6c09d9f3"
      },
      "outputs": [
        {
          "output_type": "stream",
          "name": "stderr",
          "text": [
            "100%|███████████████████████████████████████| 335M/335M [00:06<00:00, 54.2MiB/s]\n"
          ]
        }
      ],
      "source": [
        "device = \"cuda\" if torch.cuda.is_available() else \"cpu\"\n",
        "\n",
        "model, preprocess = clip.load('ViT-B/16', device)"
      ]
    },
    {
      "cell_type": "code",
      "execution_count": 4,
      "id": "94dd87f2",
      "metadata": {
        "execution": {
          "iopub.execute_input": "2025-07-22T21:26:18.449362Z",
          "iopub.status.busy": "2025-07-22T21:26:18.449052Z",
          "iopub.status.idle": "2025-07-22T21:26:18.454167Z",
          "shell.execute_reply": "2025-07-22T21:26:18.453504Z",
          "shell.execute_reply.started": "2025-07-22T21:26:18.449341Z"
        },
        "id": "94dd87f2"
      },
      "outputs": [],
      "source": [
        "# The class names are all pulled from the code provided in the outline\n",
        "CLASS_NAMES = [\n",
        "    \"pink primrose\", \"hard-leaved pocket orchid\", \"canterbury bells\", \"sweet pea\",\n",
        "    \"english marigold\", \"tiger lily\", \"moon orchid\", \"bird of paradise\",\n",
        "    \"monkshood\", \"globe thistle\", \"snapdragon\", \"colt's foot\", \"king protea\",\n",
        "    \"spear thistle\", \"yellow iris\", \"globe-flower\", \"purple coneflower\",\n",
        "    \"peruvian lily\", \"balloon flower\", \"giant white arum lily\", \"fire lily\",\n",
        "    \"pincushion flower\", \"fritillary\", \"red ginger\", \"grape hyacinth\",\n",
        "    \"corn poppy\", \"prince of wales feathers\", \"stemless gentian\", \"artichoke\",\n",
        "    \"sweet william\", \"carnation\", \"garden phlox\", \"love in the mist\",\n",
        "    \"mexican aster\", \"alpine sea holly\", \"ruby-lipped cattleya\", \"cape flower\",\n",
        "    \"great masterwort\", \"siam tulip\", \"lenten rose\", \"barbeton daisy\",\n",
        "    \"daffodil\", \"sword lily\", \"poinsettia\", \"bolero deep blue\", \"wallflower\",\n",
        "    \"marigold\", \"buttercup\", \"oxeye daisy\", \"common dandelion\", \"petunia\",\n",
        "    \"wild pansy\", \"primula\", \"sunflower\", \"pelargonium\", \"bishop of llandaff\",\n",
        "    \"gaura\", \"geranium\", \"orange dahlia\", \"pink-yellow dahlia?\", \"cautleya spicata\",\n",
        "    \"japanese anemone\", \"black-eyed susan\", \"silverbush\", \"californian poppy\",\n",
        "    \"osteospermum\", \"spring crocus\", \"bearded iris\", \"windflower\", \"tree poppy\",\n",
        "    \"gazania\", \"azalea\", \"water lily\", \"rose\", \"thorn apple\", \"morning glory\",\n",
        "    \"passion flower\", \"lotus\", \"toad lily\", \"anthurium\", \"frangipani\",\n",
        "    \"clematis\", \"hibiscus\", \"columbine\", \"desert-rose\", \"tree mallow\",\n",
        "    \"magnolia\", \"cyclamen\", \"watercress\", \"canna lily\", \"hippeastrum\",\n",
        "    \"bee balm\", \"ball moss\", \"foxglove\", \"bougainvillea\", \"camellia\",\n",
        "    \"mallow\", \"mexican petunia\", \"bromelia\", \"blanket flower\", \"trumpet creeper\",\n",
        "    \"blackberry lily\"\n",
        "]"
      ]
    },
    {
      "cell_type": "code",
      "execution_count": 5,
      "id": "a2ff95c5",
      "metadata": {
        "execution": {
          "iopub.execute_input": "2025-07-22T21:26:18.455171Z",
          "iopub.status.busy": "2025-07-22T21:26:18.454884Z",
          "iopub.status.idle": "2025-07-22T21:26:18.459878Z",
          "shell.execute_reply": "2025-07-22T21:26:18.459341Z",
          "shell.execute_reply.started": "2025-07-22T21:26:18.455151Z"
        },
        "id": "a2ff95c5"
      },
      "outputs": [],
      "source": [
        "def get_data(data_dir=\"./data\", transform=None):\n",
        "    \"\"\"Load Flowers102 train, validation and test sets.\"\"\"\n",
        "    train = torchvision.datasets.Flowers102(root=data_dir, split=\"train\", download=True, transform=transform)\n",
        "    val = torchvision.datasets.Flowers102(root=data_dir, split=\"val\", download=True, transform=transform)\n",
        "    test = torchvision.datasets.Flowers102(root=data_dir, split=\"test\", download=True, transform=transform)\n",
        "    return train, val, test"
      ]
    },
    {
      "cell_type": "code",
      "execution_count": 6,
      "id": "b9d4f252",
      "metadata": {
        "execution": {
          "iopub.execute_input": "2025-07-22T21:26:18.460799Z",
          "iopub.status.busy": "2025-07-22T21:26:18.460511Z",
          "iopub.status.idle": "2025-07-22T21:26:18.465533Z",
          "shell.execute_reply": "2025-07-22T21:26:18.464977Z",
          "shell.execute_reply.started": "2025-07-22T21:26:18.460780Z"
        },
        "id": "b9d4f252"
      },
      "outputs": [],
      "source": [
        "def base_novel_categories():\n",
        "    \"\"\"Split classes into base and novel categories.\"\"\"\n",
        "    num_classes = len(CLASS_NAMES)\n",
        "    base_classes = list(range(num_classes // 2)) # Half of the classes will be in the base set\n",
        "    novel_classes = list(range(num_classes // 2, num_classes)) # The other half in the novel set\n",
        "    return base_classes, novel_classes"
      ]
    },
    {
      "cell_type": "code",
      "execution_count": 7,
      "id": "7c7301dd",
      "metadata": {
        "execution": {
          "iopub.execute_input": "2025-07-22T21:26:18.466458Z",
          "iopub.status.busy": "2025-07-22T21:26:18.466174Z",
          "iopub.status.idle": "2025-07-22T21:26:18.470419Z",
          "shell.execute_reply": "2025-07-22T21:26:18.469830Z",
          "shell.execute_reply.started": "2025-07-22T21:26:18.466438Z"
        },
        "id": "7c7301dd"
      },
      "outputs": [],
      "source": [
        "def split_data(dataset, base_classes):\n",
        "    \"\"\"Split dataset into base and novel categories.\"\"\"\n",
        "    base_categories_samples = []\n",
        "    novel_categories_samples = []\n",
        "    base_set = set(base_classes)\n",
        "\n",
        "    for sample_id, label in enumerate(dataset._labels):\n",
        "        if label in base_set:\n",
        "            base_categories_samples.append(sample_id)\n",
        "        else:\n",
        "            novel_categories_samples.append(sample_id)\n",
        "\n",
        "    base_dataset = torch.utils.data.Subset(dataset, base_categories_samples)\n",
        "    novel_dataset = torch.utils.data.Subset(dataset, novel_categories_samples)\n",
        "    return base_dataset, novel_dataset"
      ]
    },
    {
      "cell_type": "markdown",
      "id": "142d49ad",
      "metadata": {
        "id": "142d49ad"
      },
      "source": [
        "### Zero-shot Baseline Evaluation\n",
        "To establish a performance benchmark, we first perform a zero-shot evaluation with the standard CLIP model."
      ]
    },
    {
      "cell_type": "code",
      "execution_count": 8,
      "id": "ed86a702",
      "metadata": {
        "execution": {
          "iopub.execute_input": "2025-07-22T21:26:18.471598Z",
          "iopub.status.busy": "2025-07-22T21:26:18.471108Z",
          "iopub.status.idle": "2025-07-22T21:26:18.534963Z",
          "shell.execute_reply": "2025-07-22T21:26:18.534424Z",
          "shell.execute_reply.started": "2025-07-22T21:26:18.471577Z"
        },
        "id": "ed86a702",
        "colab": {
          "base_uri": "https://localhost:8080/"
        },
        "outputId": "432a3ecc-110e-410c-ec2f-0c2ed845b2b7"
      },
      "outputs": [
        {
          "output_type": "stream",
          "name": "stderr",
          "text": [
            "100%|██████████| 345M/345M [00:13<00:00, 25.3MB/s]\n",
            "100%|██████████| 502/502 [00:00<00:00, 1.02MB/s]\n",
            "100%|██████████| 15.0k/15.0k [00:00<00:00, 19.2MB/s]\n"
          ]
        }
      ],
      "source": [
        "# Get the three datasets\n",
        "train_set, val_set, test_set = get_data(transform=preprocess)\n",
        "\n",
        "# Split classes into base and novel\n",
        "base_classes, novel_classes = base_novel_categories()\n",
        "\n",
        "# Split the datasets into base/novel subsets\n",
        "train_base, _ = split_data(train_set, base_classes)\n",
        "val_base, _ = split_data(val_set, base_classes)\n",
        "test_base, test_novel = split_data(test_set, base_classes)"
      ]
    },
    {
      "cell_type": "code",
      "execution_count": 9,
      "id": "3ec662a9",
      "metadata": {
        "execution": {
          "iopub.execute_input": "2025-07-22T21:26:18.536152Z",
          "iopub.status.busy": "2025-07-22T21:26:18.535830Z",
          "iopub.status.idle": "2025-07-22T21:26:46.826486Z",
          "shell.execute_reply": "2025-07-22T21:26:46.825787Z",
          "shell.execute_reply.started": "2025-07-22T21:26:18.536122Z"
        },
        "id": "3ec662a9",
        "outputId": "466a013e-31cf-4009-85ad-e4801f972464",
        "colab": {
          "base_uri": "https://localhost:8080/"
        }
      },
      "outputs": [
        {
          "output_type": "stream",
          "name": "stderr",
          "text": [
            "🧠 Zero-shot evaluation on Base Classes: 100%|██████████| 20/20 [00:20<00:00,  1.03s/it]\n",
            "🧠 Zero-shot evaluation on Novel Classes: 100%|██████████| 29/29 [00:35<00:00,  1.23s/it]"
          ]
        },
        {
          "output_type": "stream",
          "name": "stdout",
          "text": [
            "\n",
            "🔍 Base classes accuracy: 71.33%\n",
            "🔍 Novel classes accuracy: 78.24%\n"
          ]
        },
        {
          "output_type": "stream",
          "name": "stderr",
          "text": [
            "\n"
          ]
        }
      ],
      "source": [
        "@torch.no_grad()\n",
        "def eval_zeroshot(model, dataset, categories, batch_size, device, label=\"\"):\n",
        "    model.eval()\n",
        "    contig_cat2idx = {cat: idx for idx, cat in enumerate(categories)}\n",
        "    text_inputs = clip.tokenize(\n",
        "        [f\"a photo of a {CLASS_NAMES[c]}, a type of flower.\" for c in categories]\n",
        "    ).to(device)\n",
        "    text_features = model.encode_text(text_inputs)\n",
        "    text_features /= text_features.norm(dim=-1, keepdim=True)\n",
        "    dataloader = torch.utils.data.DataLoader(dataset, batch_size=batch_size, shuffle=False, num_workers=2)\n",
        "    correct_predictions = 0\n",
        "    for image, target in tqdm(dataloader, desc=label):\n",
        "        target = torch.Tensor([contig_cat2idx[t.item()] for t in target]).long()\n",
        "        image = image.to(device)\n",
        "        target = target.to(device)\n",
        "        image_features = model.encode_image(image)\n",
        "        image_features /= image_features.norm(dim=-1, keepdim=True)\n",
        "        predicted_class = (image_features @ text_features.T).argmax(dim=-1)\n",
        "        correct_predictions += (predicted_class == target).sum().item()\n",
        "    accuracy = correct_predictions / len(dataset)\n",
        "    return accuracy\n",
        "\n",
        "base_accuracy = eval_zeroshot(model=model, dataset=test_base, categories=base_classes, batch_size=128, device=device, label=\"🧠 Zero-shot evaluation on Base Classes\")\n",
        "novel_accuracy = eval_zeroshot(model=model, dataset=test_novel, categories=novel_classes, batch_size=128, device=device, label=\"🧠 Zero-shot evaluation on Novel Classes\")\n",
        "\n",
        "print()\n",
        "print(f\"🔍 Base classes accuracy: {base_accuracy*100:.2f}%\")\n",
        "print(f\"🔍 Novel classes accuracy: {novel_accuracy*100:.2f}%\")"
      ]
    },
    {
      "cell_type": "markdown",
      "id": "108b9341",
      "metadata": {
        "id": "108b9341"
      },
      "source": [
        "### Model Implementation"
      ]
    },
    {
      "cell_type": "code",
      "execution_count": 10,
      "id": "20fafad7",
      "metadata": {
        "execution": {
          "iopub.execute_input": "2025-07-22T21:26:46.829341Z",
          "iopub.status.busy": "2025-07-22T21:26:46.829038Z",
          "iopub.status.idle": "2025-07-22T21:26:46.834536Z",
          "shell.execute_reply": "2025-07-22T21:26:46.833970Z",
          "shell.execute_reply.started": "2025-07-22T21:26:46.829318Z"
        },
        "id": "20fafad7"
      },
      "outputs": [],
      "source": [
        "class TextEncoder(nn.Module):\n",
        "    \"\"\"\n",
        "    A custom text encoder that wraps the CLIP transformer.\n",
        "    This is necessary to process the learned prompts from PromptLearner.\n",
        "    \"\"\"\n",
        "    def __init__(self, clip_model):\n",
        "        super().__init__()\n",
        "        self.transformer = clip_model.transformer\n",
        "        self.positional_embedding = clip_model.positional_embedding\n",
        "        self.ln_final = clip_model.ln_final\n",
        "        self.text_projection = clip_model.text_projection\n",
        "\n",
        "    def forward(self, prompts, tokenized_prompts):\n",
        "        x = prompts + self.positional_embedding\n",
        "        # Permute to fit the transformer's expected input shape: [n_ctx, batch_size, transformer.width]\n",
        "        x = x.permute(1, 0, 2)\n",
        "        x = self.transformer(x)\n",
        "        # Permute back to the original shape\n",
        "        x = x.permute(1, 0, 2)\n",
        "        x = self.ln_final(x)\n",
        "\n",
        "        # Extract the feature corresponding to the [EOT] token for each prompt\n",
        "        # and project it into the final embedding space.\n",
        "        x = x[torch.arange(x.shape[0]), tokenized_prompts.argmax(dim=-1)] @ self.text_projection\n",
        "        return x"
      ]
    },
    {
      "cell_type": "code",
      "execution_count": 11,
      "id": "d1a3ad84",
      "metadata": {
        "execution": {
          "iopub.execute_input": "2025-07-22T21:26:46.836382Z",
          "iopub.status.busy": "2025-07-22T21:26:46.835422Z",
          "iopub.status.idle": "2025-07-22T21:26:46.844390Z",
          "shell.execute_reply": "2025-07-22T21:26:46.843864Z",
          "shell.execute_reply.started": "2025-07-22T21:26:46.836350Z"
        },
        "id": "d1a3ad84"
      },
      "outputs": [],
      "source": [
        "class PromptLearner(nn.Module):\n",
        "    \"\"\"\n",
        "    Implements the core logic of CoOp by creating learnable prompt embeddings.\n",
        "    \"\"\"\n",
        "    def __init__(self, clip_model, classnames, n_ctx, ctx_init, class_token_position, csc=False):\n",
        "        super().__init__()\n",
        "        n_cls = len(classnames)\n",
        "        ctx_dim = clip_model.ln_final.weight.shape[0]\n",
        "\n",
        "        # Initialize context vectors. If ctx_init is provided, use its embeddings.\n",
        "        # Otherwise, initialize with random noise (X's).\n",
        "        if ctx_init:\n",
        "            ctx_init = ctx_init.replace(\"_\", \" \")\n",
        "            n_ctx = len(ctx_init.split(\" \"))\n",
        "            prompt = clip.tokenize(ctx_init).to(clip_model.token_embedding.weight.device)\n",
        "            with torch.no_grad():\n",
        "                embedding = clip_model.token_embedding(prompt)\n",
        "            ctx_vectors = embedding[0, 1 : 1 + n_ctx, :]\n",
        "            prompt_prefix = ctx_init\n",
        "        else:\n",
        "            ctx_vectors = torch.empty(n_ctx, ctx_dim)\n",
        "            torch.nn.init.normal_(ctx_vectors, std=0.02)\n",
        "            prompt_prefix = \" \".join([\"X\"] * n_ctx)\n",
        "\n",
        "        print(f\"Initial context: '{prompt_prefix}'\")\n",
        "        print(f\"Number of context words (tokens): {n_ctx}\")\n",
        "\n",
        "        # The learnable context vectors are registered as a parameter.\n",
        "        self.ctx = nn.Parameter(ctx_vectors)\n",
        "\n",
        "        # Tokenize all prompts (e.g., \"X X X X classname.\")\n",
        "        prompts = [prompt_prefix + \" \" + name + \".\" for name in classnames]\n",
        "        tokenized_prompts = torch.cat([clip.tokenize(p) for p in prompts]).to(clip_model.token_embedding.weight.device)\n",
        "\n",
        "        with torch.no_grad():\n",
        "            embedding = clip_model.token_embedding(tokenized_prompts)\n",
        "\n",
        "        # Register the start and end token embeddings as non-learnable buffers.\n",
        "        self.register_buffer(\"token_prefix\", embedding[:, :1, :])  # SOS token\n",
        "        self.register_buffer(\"token_suffix\", embedding[:, 1 + n_ctx :, :])  # Class and EOS tokens\n",
        "\n",
        "        self.n_cls = n_cls\n",
        "        self.n_ctx = n_ctx\n",
        "        self.tokenized_prompts = tokenized_prompts\n",
        "        self.class_token_position = class_token_position\n",
        "\n",
        "    def forward(self):\n",
        "        \"\"\"Constructs the full prompt embeddings by combining context and class tokens.\"\"\"\n",
        "        ctx = self.ctx\n",
        "        # Expand context to match the number of classes\n",
        "        if ctx.dim() == 2:\n",
        "            ctx = ctx.unsqueeze(0).expand(self.n_cls, -1, -1)\n",
        "\n",
        "        # Combine the start token, context, and class+end tokens\n",
        "        prompts = torch.cat(\n",
        "            [\n",
        "                self.token_prefix,  # (n_cls, 1, dim)\n",
        "                ctx,               # (n_cls, n_ctx, dim)\n",
        "                self.token_suffix,  # (n_cls, *, dim)\n",
        "            ],\n",
        "            dim=1,\n",
        "        )\n",
        "        return prompts"
      ]
    },
    {
      "cell_type": "code",
      "execution_count": 12,
      "id": "3d710cbd",
      "metadata": {
        "execution": {
          "iopub.execute_input": "2025-07-22T21:26:46.845239Z",
          "iopub.status.busy": "2025-07-22T21:26:46.845015Z",
          "iopub.status.idle": "2025-07-22T21:26:46.850823Z",
          "shell.execute_reply": "2025-07-22T21:26:46.850321Z",
          "shell.execute_reply.started": "2025-07-22T21:26:46.845221Z"
        },
        "id": "3d710cbd"
      },
      "outputs": [],
      "source": [
        "class OurCLIP(nn.Module):\n",
        "    \"\"\"The main model class that integrates the PromptLearner with CLIP.\"\"\"\n",
        "    def __init__(self, classnames, n_ctx, ctx_init, class_token_position, csc=False):\n",
        "        super().__init__()\n",
        "        clip_model, _ = clip.load(\"ViT-B/16\")\n",
        "        clip_model = clip_model.float()\n",
        "\n",
        "        self.prompt_learner = PromptLearner(clip_model, classnames, n_ctx, ctx_init, class_token_position, csc=csc)\n",
        "        self.tokenized_prompts = self.prompt_learner.tokenized_prompts\n",
        "        self.image_encoder = clip_model.visual\n",
        "        self.text_encoder = TextEncoder(clip_model)\n",
        "        self.logit_scale = clip_model.logit_scale\n",
        "\n",
        "    def forward(self, image):\n",
        "        image_features = self.image_encoder(image)\n",
        "\n",
        "        prompts = self.prompt_learner()\n",
        "        tokenized_prompts = self.tokenized_prompts\n",
        "        text_features = self.text_encoder(prompts, tokenized_prompts)\n",
        "\n",
        "        # Normalize features to compute cosine similarity\n",
        "        image_features = image_features / image_features.norm(dim=-1, keepdim=True)\n",
        "        text_features = text_features / text_features.norm(dim=-1, keepdim=True)\n",
        "\n",
        "        # Compute logits\n",
        "        logit_scale = self.logit_scale.exp()\n",
        "        logits = logit_scale * image_features @ text_features.t()\n",
        "\n",
        "        return logits"
      ]
    },
    {
      "cell_type": "code",
      "execution_count": 13,
      "id": "e87aecbb",
      "metadata": {
        "execution": {
          "iopub.execute_input": "2025-07-22T21:26:46.851737Z",
          "iopub.status.busy": "2025-07-22T21:26:46.851507Z",
          "iopub.status.idle": "2025-07-22T21:26:46.857949Z",
          "shell.execute_reply": "2025-07-22T21:26:46.857446Z",
          "shell.execute_reply.started": "2025-07-22T21:26:46.851713Z"
        },
        "id": "e87aecbb"
      },
      "outputs": [],
      "source": [
        "def train_coop(fewshot_loader, class_indices, num_epochs=5, lr=1e-3, n_ctx=12, ctx_init=None, class_token_position=\"end\"):\n",
        "    \"\"\"\n",
        "    Train CoOp's prompt vectors on base classes.\n",
        "    \"\"\"\n",
        "    print(f\"Training CoOp on {len(class_indices)} base classes\")\n",
        "    classnames = [CLASS_NAMES[i] for i in class_indices]\n",
        "    coop_model = OurCLIP(classnames, n_ctx, ctx_init, class_token_position).to(device)\n",
        "\n",
        "    # Freeze all model parameters except for the context vectors in the prompt learner\n",
        "    for param in coop_model.parameters():\n",
        "        param.requires_grad = False\n",
        "    coop_model.prompt_learner.ctx.requires_grad = True\n",
        "\n",
        "    optimizer = optim.Adam([coop_model.prompt_learner.ctx], lr=lr)\n",
        "    criterion = nn.CrossEntropyLoss()\n",
        "\n",
        "    # Training the model (epochs passed in the function)\n",
        "    for epoch in range(num_epochs):\n",
        "        coop_model.train()\n",
        "        epoch_loss = 0.0\n",
        "\n",
        "        # Standard loop for training\n",
        "        for images, labels in tqdm(fewshot_loader, desc=f\"Epoch {epoch+1}/{num_epochs}\"):\n",
        "            images = images.to(device)\n",
        "            labels = labels.to(device)\n",
        "\n",
        "            optimizer.zero_grad()\n",
        "            logits = coop_model(images)\n",
        "            loss = criterion(logits, labels)\n",
        "            loss.backward()\n",
        "            optimizer.step()\n",
        "\n",
        "            epoch_loss += loss.item()\n",
        "\n",
        "        avg_loss = epoch_loss / len(fewshot_loader)\n",
        "        print(f\"Epoch {epoch+1}: avg loss = {avg_loss:.4f}\") # Show the loss for that epoch\n",
        "\n",
        "    # We want to extract the learned context prompt so we clone the original to avoid\n",
        "    # any overwrite issues and gradient tracking\n",
        "    coop_model.eval()\n",
        "    learned_ctx = coop_model.prompt_learner.ctx.clone()\n",
        "\n",
        "    # Keep the training config just to keep a log\n",
        "    training_config = {\n",
        "        'n_ctx': n_ctx,\n",
        "        'ctx_init': ctx_init,\n",
        "        'class_token_position': class_token_position\n",
        "    }\n",
        "\n",
        "    return coop_model, learned_ctx, training_config"
      ]
    },
    {
      "cell_type": "code",
      "execution_count": 14,
      "id": "360a8102",
      "metadata": {
        "execution": {
          "iopub.execute_input": "2025-07-22T21:26:46.858816Z",
          "iopub.status.busy": "2025-07-22T21:26:46.858573Z",
          "iopub.status.idle": "2025-07-22T21:26:46.864035Z",
          "shell.execute_reply": "2025-07-22T21:26:46.863510Z",
          "shell.execute_reply.started": "2025-07-22T21:26:46.858794Z"
        },
        "id": "360a8102"
      },
      "outputs": [],
      "source": [
        "def get_text_features_with_learned_prompt(class_indices, learned_ctx, training_config):\n",
        "    \"\"\"\n",
        "    Generate text features for a given set of classes using the learned context vectors.\n",
        "    Needed in order to have a tokenized prompt for the novel classes (never sees or trains\n",
        "    on the novel classes)\n",
        "    \"\"\"\n",
        "    classnames = [CLASS_NAMES[i] for i in class_indices]\n",
        "\n",
        "    # Create a temporary model with the same configuration as training to ensure consistency\n",
        "    temp_model = OurCLIP(\n",
        "        classnames,\n",
        "        training_config['n_ctx'],\n",
        "        training_config['ctx_init'],\n",
        "        training_config['class_token_position']\n",
        "    ).to(device)\n",
        "\n",
        "    # Load the learned context vectors into this model\n",
        "    with torch.no_grad():\n",
        "        temp_model.prompt_learner.ctx.copy_(learned_ctx)\n",
        "\n",
        "    # Generate and normalize text features\n",
        "    temp_model.eval()\n",
        "    with torch.no_grad():\n",
        "        prompts = temp_model.prompt_learner()\n",
        "        tokenized_prompts = temp_model.tokenized_prompts\n",
        "        text_features = temp_model.text_encoder(prompts, tokenized_prompts)\n",
        "        text_features = text_features / text_features.norm(dim=-1, keepdim=True)\n",
        "\n",
        "    return text_features"
      ]
    },
    {
      "cell_type": "code",
      "execution_count": 15,
      "id": "af79dbea",
      "metadata": {
        "execution": {
          "iopub.execute_input": "2025-07-22T21:26:46.864985Z",
          "iopub.status.busy": "2025-07-22T21:26:46.864697Z",
          "iopub.status.idle": "2025-07-22T21:26:46.870944Z",
          "shell.execute_reply": "2025-07-22T21:26:46.870456Z",
          "shell.execute_reply.started": "2025-07-22T21:26:46.864965Z"
        },
        "id": "af79dbea"
      },
      "outputs": [],
      "source": [
        "def build_prototypes(train_loader, class_indices):\n",
        "    \"\"\"\n",
        "    Build visual prototypes by averaging image features from the training data for each class.\n",
        "    (Proto-adapter)\n",
        "    \"\"\"\n",
        "    num_classes = len(class_indices)\n",
        "    features_per_class = {i: [] for i in range(num_classes)}\n",
        "\n",
        "    # Map original class labels (e.g., 0-101) to new indices (e.g., 0-50)\n",
        "    label_to_idx = {orig_label: new_idx for new_idx, orig_label in enumerate(class_indices)}\n",
        "\n",
        "    with torch.no_grad():\n",
        "        for images, labels in tqdm(train_loader, desc=\"Building prototypes\"):\n",
        "            images = images.to(device)\n",
        "            features = model.encode_image(images)\n",
        "            features = features / features.norm(dim=-1, keepdim=True)\n",
        "            features = features.float()\n",
        "\n",
        "            for feat, label in zip(features, labels):\n",
        "                if label.item() in label_to_idx:\n",
        "                    new_idx = label_to_idx[label.item()]\n",
        "                    features_per_class[new_idx].append(feat.cpu())\n",
        "\n",
        "    # Compute the mean feature for each class to create the prototype\n",
        "    prototypes = []\n",
        "    for i in range(num_classes):\n",
        "        if len(features_per_class[i]) > 0:\n",
        "            feats = torch.stack(features_per_class[i])\n",
        "            proto = feats.mean(dim=0)\n",
        "            proto = proto / proto.norm() # Normalize the final prototype\n",
        "            prototypes.append(proto)\n",
        "        else:\n",
        "            # If there are no training samples in the class just fill with zeros\n",
        "            prototypes.append(torch.zeros(512))\n",
        "\n",
        "    return torch.stack(prototypes).to(device)"
      ]
    },
    {
      "cell_type": "code",
      "execution_count": 16,
      "id": "new_plot_function_cell",
      "metadata": {
        "execution": {
          "iopub.execute_input": "2025-07-22T21:26:46.872304Z",
          "iopub.status.busy": "2025-07-22T21:26:46.871756Z",
          "iopub.status.idle": "2025-07-22T21:26:46.878003Z",
          "shell.execute_reply": "2025-07-22T21:26:46.877515Z",
          "shell.execute_reply.started": "2025-07-22T21:26:46.872278Z"
        },
        "id": "new_plot_function_cell"
      },
      "outputs": [],
      "source": [
        "def plot_model_usage_histogram(base_confidences, novel_confidences, threshold, save_path=None):\n",
        "    \"\"\"\n",
        "    Plots a histogram showing how many samples from base and novel classes\n",
        "    were processed by the proto-adapter vs. the base CLIP model.\n",
        "    \"\"\"\n",
        "    # if (base_confidences is None or len(base_confidences) == 0) and \\\n",
        "    #    (novel_confidences is None or len(novel_confidences) == 0):\n",
        "    #     print(\"No confidence scores to plot.\")\n",
        "    #     return\n",
        "\n",
        "    novel_adapter_count = np.sum(novel_confidences > threshold)\n",
        "    novel_base_clip_count = len(novel_confidences) - novel_adapter_count\n",
        "\n",
        "    base_adapter_count = np.sum(base_confidences > threshold)\n",
        "    base_base_clip_count = len(base_confidences) - base_adapter_count\n",
        "\n",
        "    categories = [\n",
        "        'Novel (CLIP + Adapter)', 'Novel (CLIP)',\n",
        "        'Base (CLIP + Adapter)', 'Base (CLIP)'\n",
        "    ]\n",
        "    counts = [\n",
        "        novel_adapter_count, novel_base_clip_count,\n",
        "        base_adapter_count, base_base_clip_count\n",
        "    ]\n",
        "    colors = ['darkorange', 'sandybrown', 'royalblue', 'lightsteelblue']\n",
        "\n",
        "    plt.style.use('seaborn-v0_8-whitegrid')\n",
        "    fig, ax = plt.subplots(figsize=(10, 7))\n",
        "    bars = ax.bar(categories, counts, color=colors)\n",
        "\n",
        "    ax.set_ylabel('Number of Samples', fontsize=12)\n",
        "    ax.set_title('Model Usage Distribution by Class Type', fontsize=16, fontweight='bold')\n",
        "    ax.set_xticks(range(len(categories)))\n",
        "    ax.set_xticklabels(categories, rotation=0, ha=\"center\", fontsize=11)\n",
        "\n",
        "    for bar in bars:\n",
        "        yval = bar.get_height()\n",
        "        ax.text(bar.get_x() + bar.get_width()/2.0, yval + 2, int(yval), va='bottom', ha='center', fontsize=11)\n",
        "\n",
        "    ax.axvline(x=1.5, color='grey', linestyle='--', linewidth=1)\n",
        "    ax.grid(axis='x')\n",
        "    ax.set_ylim(top=max(counts) * 1.15)\n",
        "\n",
        "    plt.tight_layout()\n",
        "\n",
        "    if save_path:\n",
        "        plt.savefig(save_path, dpi=300, bbox_inches='tight')\n",
        "        print(f\"📊 Diagram saved to: {save_path}\")\n",
        "\n",
        "    plt.show()"
      ]
    },
    {
      "cell_type": "code",
      "execution_count": 17,
      "id": "97e8e663",
      "metadata": {
        "execution": {
          "iopub.execute_input": "2025-07-22T21:26:46.879112Z",
          "iopub.status.busy": "2025-07-22T21:26:46.878754Z",
          "iopub.status.idle": "2025-07-22T21:26:46.887226Z",
          "shell.execute_reply": "2025-07-22T21:26:46.886637Z",
          "shell.execute_reply.started": "2025-07-22T21:26:46.879083Z"
        },
        "id": "97e8e663"
      },
      "outputs": [],
      "source": [
        "def evaluate(test_loader, class_indices, text_features, proto_weights=None, alpha=0.55, conf_threshold=0.98):\n",
        "    \"\"\"Evaluate the model on test data using the confidence-based proto-adapter switching mechanism.\"\"\"\n",
        "    all_preds = []\n",
        "    all_labels = []\n",
        "    all_confidences = []\n",
        "\n",
        "    label_to_idx = {orig_label: new_idx for new_idx, orig_label in enumerate(class_indices)}\n",
        "\n",
        "    with torch.no_grad():\n",
        "        for images, labels in tqdm(test_loader, desc=\"Evaluating\"):\n",
        "            images = images.to(device)\n",
        "            features = model.encode_image(images)\n",
        "            features = features / features.norm(dim=-1, keepdim=True)\n",
        "            features = features.float()\n",
        "\n",
        "            clip_logits = 100.0 * features @ text_features.T\n",
        "\n",
        "            if proto_weights is not None and alpha > 0.0:\n",
        "                proto_logits = 100.0 * features @ proto_weights.T\n",
        "                proto_probs = F.softmax(proto_logits, dim=-1)\n",
        "                max_conf, _ = proto_probs.max(dim=-1)\n",
        "                all_confidences.extend(max_conf.cpu().numpy())\n",
        "\n",
        "                combined_logits = []\n",
        "                for i in range(features.shape[0]):\n",
        "                    if max_conf[i] > conf_threshold:\n",
        "                        mixed_logits = alpha * proto_logits[i] + (1 - alpha) * clip_logits[i, :proto_logits.shape[1]]\n",
        "                        if proto_logits.shape[1] < clip_logits.shape[1]:\n",
        "                           mixed_logits = F.pad(mixed_logits, (0, clip_logits.shape[1] - proto_logits.shape[1]), value=float('-inf'))\n",
        "                        combined_logits.append(mixed_logits)\n",
        "                    else:\n",
        "                        combined_logits.append(clip_logits[i])\n",
        "                combined_logits = torch.stack(combined_logits)\n",
        "            else:\n",
        "                all_confidences.extend(np.zeros(images.shape[0]))\n",
        "                combined_logits = clip_logits\n",
        "\n",
        "            preds = combined_logits.argmax(dim=-1).cpu()\n",
        "            mapped_labels = [label_to_idx.get(label.item(), -1) for label in labels]\n",
        "            all_preds.extend(preds.numpy())\n",
        "            all_labels.extend(mapped_labels)\n",
        "\n",
        "    valid_indices = [i for i, label in enumerate(all_labels) if label != -1]\n",
        "    filtered_preds = [all_preds[i] for i in valid_indices]\n",
        "    filtered_labels = [all_labels[i] for i in valid_indices]\n",
        "\n",
        "    acc = accuracy_score(filtered_labels, filtered_preds) if filtered_labels else 0.0\n",
        "    return acc, np.array(all_confidences)"
      ]
    },
    {
      "cell_type": "code",
      "execution_count": 18,
      "id": "b47a9c24",
      "metadata": {
        "execution": {
          "iopub.execute_input": "2025-07-22T21:26:46.888250Z",
          "iopub.status.busy": "2025-07-22T21:26:46.888030Z",
          "iopub.status.idle": "2025-07-22T21:26:46.893813Z",
          "shell.execute_reply": "2025-07-22T21:26:46.893324Z",
          "shell.execute_reply.started": "2025-07-22T21:26:46.888233Z"
        },
        "id": "b47a9c24"
      },
      "outputs": [],
      "source": [
        "def single_experiment(ctx, alpha, conf_threshold, lr, epochs, batch_size=16):\n",
        "    \"\"\"Run a single, full experiment with a given set of parameters.\"\"\"\n",
        "    print(f\"\\n{'='*60}\")\n",
        "    print(f\"Running experiment with:\")\n",
        "    print(f\"CTX={ctx}, ALPHA={alpha}, CONF_THRESHOLD={conf_threshold}, LR={lr}, EPOCHS={epochs}\")\n",
        "    print(f\"{'='*60}\")\n",
        "\n",
        "    train_set, _, test_set = get_data(transform=preprocess)\n",
        "    base_classes, novel_classes = base_novel_categories()\n",
        "    train_base, _ = split_data(train_set, base_classes)\n",
        "    test_base, test_novel = split_data(test_set, base_classes)\n",
        "    train_loader_base = DataLoader(train_base, batch_size=batch_size, shuffle=True)\n",
        "    test_loader_base = DataLoader(test_base, batch_size=batch_size, shuffle=False)\n",
        "    test_loader_novel = DataLoader(test_novel, batch_size=batch_size, shuffle=False)\n",
        "\n",
        "    _, learned_ctx, training_config = train_coop(\n",
        "        train_loader_base, base_classes, num_epochs=epochs, lr=lr, n_ctx=ctx\n",
        "    )\n",
        "\n",
        "    base_text_features = get_text_features_with_learned_prompt(base_classes, learned_ctx, training_config)\n",
        "    novel_text_features = get_text_features_with_learned_prompt(novel_classes, learned_ctx, training_config)\n",
        "\n",
        "    base_proto_weights = build_prototypes(train_loader_base, base_classes)\n",
        "\n",
        "    base_acc, base_confidences = evaluate(test_loader_base, base_classes, base_text_features,\n",
        "                                          base_proto_weights, alpha=alpha, conf_threshold=conf_threshold)\n",
        "    novel_acc, novel_confidences = evaluate(test_loader_novel, novel_classes, novel_text_features,\n",
        "                                            base_proto_weights, alpha=alpha, conf_threshold=conf_threshold)\n",
        "\n",
        "    # Plot the threshold usage\n",
        "    print(\"\\nVisualizing model usage distribution...\")\n",
        "    plot_dir = 'plots'\n",
        "    os.makedirs(plot_dir, exist_ok=True)\n",
        "    filename = f\"dist_ctx-{ctx}_alpha-{alpha}_conf-{conf_threshold}_lr-{lr}_ep-{epochs}.png\"\n",
        "    save_path = os.path.join(plot_dir, filename)\n",
        "    plot_model_usage_histogram(base_confidences, novel_confidences, conf_threshold, save_path=save_path)\n",
        "\n",
        "    return base_acc, novel_acc"
      ]
    },
    {
      "cell_type": "code",
      "execution_count": 19,
      "id": "d64f931d",
      "metadata": {
        "execution": {
          "iopub.execute_input": "2025-07-22T21:27:02.867071Z",
          "iopub.status.busy": "2025-07-22T21:27:02.866705Z",
          "iopub.status.idle": "2025-07-22T21:27:02.872721Z",
          "shell.execute_reply": "2025-07-22T21:27:02.872016Z",
          "shell.execute_reply.started": "2025-07-22T21:27:02.867047Z"
        },
        "id": "d64f931d"
      },
      "outputs": [],
      "source": [
        "def run_experiments():\n",
        "    \"\"\"Define and run a set of experiments, then display the results.\"\"\"\n",
        "    # Running only the best configuration from the report for this demonstration\n",
        "    experiment_configs = [\n",
        "        {'ctx': 13, 'alpha': 0.55, 'conf_threshold': 0.985, 'lr': 0.001, 'epochs': 5},\n",
        "    ]\n",
        "\n",
        "    results = []\n",
        "    for i, config in enumerate(experiment_configs):\n",
        "        print(f\"\\nExperiment {i+1}/{len(experiment_configs)}\")\n",
        "        try:\n",
        "            base_acc, novel_acc = single_experiment(**config)\n",
        "            result = {'experiment_id': i+1, **config, 'base_accuracy': base_acc * 100, 'novel_accuracy': novel_acc * 100, 'status': 'success'}\n",
        "            print(f\"✅ Experiment {i+1} completed: Base Acc: {base_acc*100:.2f}%, Novel Acc: {novel_acc*100:.2f}%\")\n",
        "        except Exception as e:\n",
        "            print(f\"❌ Experiment {i+1} failed: {str(e)}\")\n",
        "            result = {'experiment_id': i+1, **config, 'base_accuracy': None, 'novel_accuracy': None, 'status': f'failed: {str(e)}'}\n",
        "        results.append(result)\n",
        "\n",
        "    df = pd.DataFrame(results)\n",
        "    print(\"\\n📊 RESULTS SUMMARY:\")\n",
        "    print(\"=\" * 100)\n",
        "    print(df[['experiment_id', 'ctx', 'alpha', 'conf_threshold', 'lr', 'epochs', 'base_accuracy', 'novel_accuracy']].to_string(index=False))\n",
        "    return df"
      ]
    },
    {
      "cell_type": "code",
      "execution_count": 20,
      "id": "839bd62b",
      "metadata": {
        "execution": {
          "iopub.execute_input": "2025-07-22T21:27:03.069695Z",
          "iopub.status.busy": "2025-07-22T21:27:03.069360Z"
        },
        "id": "839bd62b",
        "outputId": "8d39de13-6b38-400a-b21d-4f96676478b0",
        "colab": {
          "base_uri": "https://localhost:8080/",
          "height": 1000
        }
      },
      "outputs": [
        {
          "output_type": "stream",
          "name": "stdout",
          "text": [
            "\n",
            "Experiment 1/1\n",
            "\n",
            "============================================================\n",
            "Running experiment with:\n",
            "CTX=13, ALPHA=0.55, CONF_THRESHOLD=0.985, LR=0.001, EPOCHS=5\n",
            "============================================================\n",
            "Training CoOp on 51 base classes\n",
            "Initial context: 'X X X X X X X X X X X X X'\n",
            "Number of context words (tokens): 13\n"
          ]
        },
        {
          "output_type": "stream",
          "name": "stderr",
          "text": [
            "Epoch 1/5: 100%|██████████| 32/32 [00:17<00:00,  1.84it/s]\n"
          ]
        },
        {
          "output_type": "stream",
          "name": "stdout",
          "text": [
            "Epoch 1: avg loss = 1.0448\n"
          ]
        },
        {
          "output_type": "stream",
          "name": "stderr",
          "text": [
            "Epoch 2/5: 100%|██████████| 32/32 [00:17<00:00,  1.85it/s]\n"
          ]
        },
        {
          "output_type": "stream",
          "name": "stdout",
          "text": [
            "Epoch 2: avg loss = 0.6670\n"
          ]
        },
        {
          "output_type": "stream",
          "name": "stderr",
          "text": [
            "Epoch 3/5: 100%|██████████| 32/32 [00:17<00:00,  1.86it/s]\n"
          ]
        },
        {
          "output_type": "stream",
          "name": "stdout",
          "text": [
            "Epoch 3: avg loss = 0.5331\n"
          ]
        },
        {
          "output_type": "stream",
          "name": "stderr",
          "text": [
            "Epoch 4/5: 100%|██████████| 32/32 [00:18<00:00,  1.74it/s]\n"
          ]
        },
        {
          "output_type": "stream",
          "name": "stdout",
          "text": [
            "Epoch 4: avg loss = 0.3711\n"
          ]
        },
        {
          "output_type": "stream",
          "name": "stderr",
          "text": [
            "Epoch 5/5: 100%|██████████| 32/32 [00:17<00:00,  1.83it/s]\n"
          ]
        },
        {
          "output_type": "stream",
          "name": "stdout",
          "text": [
            "Epoch 5: avg loss = 0.2888\n",
            "Initial context: 'X X X X X X X X X X X X X'\n",
            "Number of context words (tokens): 13\n",
            "Initial context: 'X X X X X X X X X X X X X'\n",
            "Number of context words (tokens): 13\n"
          ]
        },
        {
          "output_type": "stream",
          "name": "stderr",
          "text": [
            "Building prototypes: 100%|██████████| 32/32 [00:05<00:00,  5.82it/s]\n",
            "Evaluating: 100%|██████████| 155/155 [00:27<00:00,  5.58it/s]\n",
            "Evaluating: 100%|██████████| 230/230 [00:40<00:00,  5.75it/s]\n"
          ]
        },
        {
          "output_type": "stream",
          "name": "stdout",
          "text": [
            "\n",
            "Visualizing model usage distribution...\n",
            "📊 Diagram saved to: plots/dist_ctx-13_alpha-0.55_conf-0.985_lr-0.001_ep-5.png\n"
          ]
        },
        {
          "output_type": "display_data",
          "data": {
            "text/plain": [
              "<Figure size 1000x700 with 1 Axes>"
            ],
            "image/png": "[encoded data removed]"
          },
          "metadata": {}
        },
        {
          "output_type": "stream",
          "name": "stdout",
          "text": [
            "✅ Experiment 1 completed: Base Acc: 92.88%, Novel Acc: 74.81%\n",
            "\n",
            "📊 RESULTS SUMMARY:\n",
            "====================================================================================================\n",
            " experiment_id  ctx  alpha  conf_threshold    lr  epochs  base_accuracy  novel_accuracy\n",
            "             1   13   0.55           0.985 0.001       5      92.883138       74.809576\n"
          ]
        }
      ],
      "source": [
        "if __name__ == \"__main__\":\n",
        "    # Set a seed for reproducibility\n",
        "    random.seed(42)\n",
        "    np.random.seed(42)\n",
        "    torch.manual_seed(42)\n",
        "    torch.cuda.manual_seed(42)\n",
        "\n",
        "    # Run the experiment\n",
        "    results_df = run_experiments()"
      ]
    },
    {
      "cell_type": "markdown",
      "id": "39346b35",
      "metadata": {
        "id": "39346b35"
      },
      "source": [
        "---"
      ]
    },
    {
      "cell_type": "markdown",
      "id": "5aa782c4",
      "metadata": {
        "id": "5aa782c4"
      },
      "source": [
        "## References\n",
        "\n",
        "[1] Kaiyang Zhou, Jingkang Yang, Chen Change Loy, and Ziwei Liu. 2022. Learning to Prompt for Vision-Language Models. International Journal of Computer Vision 130, 9 (July 2022), 2337–2348. Retrieved from https://doi.org/10.1007/s11263-022-01653-1\n",
        "\n",
        "[2] Naoki Kato, Yoshiki Nota, and Yoshimitsu Aoki. 2024. Proto-Adapter: Efficient Training-Free CLIP-Adapter for Few-Shot Image Classification. Sensors 24, 11 (2024). Retrieved from https://doi.org/10.3390/s24113624\n",
        "\n",
        "[3] Kaiyang Zhou, Jingkang Yang, Chen Change Loy, and Ziwei Liu. 2022. Conditional Prompt Learning for Vision-Language Models. Retrieved from https://arxiv.org/abs/2203.05557"
      ]
    },
    {
      "cell_type": "code",
      "execution_count": null,
      "id": "5364e0a9-75e1-4d82-af49-c99a3447e2bd",
      "metadata": {
        "id": "5364e0a9-75e1-4d82-af49-c99a3447e2bd"
      },
      "outputs": [],
      "source": []
    }
  ],
  "metadata": {
    "accelerator": "GPU",
    "colab": {
      "gpuType": "T4",
      "provenance": []
    },
    "kernelspec": {
      "display_name": "Python 3 (ipykernel)",
      "language": "python",
      "name": "python3"
    },
    "language_info": {
      "codemirror_mode": {
        "name": "ipython",
        "version": 3
      },
      "file_extension": ".py",
      "mimetype": "text/x-python",
      "name": "python",
      "nbconvert_exporter": "python",
      "pygments_lexer": "ipython3",
      "version": "3.12.9"
    }
  },
  "nbformat": 4,
  "nbformat_minor": 5
}